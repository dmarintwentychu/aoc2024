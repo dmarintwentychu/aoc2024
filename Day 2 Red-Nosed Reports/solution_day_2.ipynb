{
 "cells": [
  {
   "cell_type": "markdown",
   "metadata": {},
   "source": [
    "## Primera parte"
   ]
  },
  {
   "cell_type": "code",
   "execution_count": 1,
   "metadata": {},
   "outputs": [],
   "source": [
    "def isvalid(line):\n",
    "    up_or_down = line[0] < line[1] # True = asc; False = desc\n",
    "    for i in range(len(line) - 1):\n",
    "\n",
    "        resta = line[i] - line[i + 1]                \n",
    "        \n",
    "        if (resta > 0 and up_or_down) or (resta < 0 and not up_or_down) or resta == 0 or abs(resta) > 3:\n",
    "            return 0\n",
    "    return 1"
   ]
  },
  {
   "cell_type": "code",
   "execution_count": 2,
   "metadata": {},
   "outputs": [],
   "source": [
    "def isvalid(line):\n",
    "    is_inc = all([0 < line[i+1] - line[i] <= 3 for i in range(len(line) - 1)])\n",
    "    is_dec = all([-3 <= line[i+1] - line[i] < 0 for i in range(len(line) - 1)])\n",
    "    if is_inc or is_dec:\n",
    "        return 1\n",
    "    else:\n",
    "        return 0"
   ]
  },
  {
   "cell_type": "code",
   "execution_count": 3,
   "metadata": {},
   "outputs": [
    {
     "name": "stdout",
     "output_type": "stream",
     "text": [
      "Resultado = 242\n"
     ]
    }
   ],
   "source": [
    "import re\n",
    "\n",
    "count = 0\n",
    "with open(\"input.txt\") as f:\n",
    "    while line := f.readline():\n",
    "        line_split = re.split(r\"\\s+\",line.strip())\n",
    "        line_split = [int(x) for x in line_split]\n",
    "        count += isvalid(line_split)\n",
    "\n",
    "print(\"Resultado = \" + str(count))"
   ]
  },
  {
   "cell_type": "markdown",
   "metadata": {},
   "source": [
    "## Segunda parte"
   ]
  },
  {
   "cell_type": "code",
   "execution_count": 4,
   "metadata": {},
   "outputs": [],
   "source": [
    "def isvalidv2(line):\n",
    "    for i in range(len(line)):\n",
    "        \n",
    "        linea_mod = [e for j, e in enumerate(line) if j != i]    \n",
    "\n",
    "        up_or_down = linea_mod[0] < linea_mod[1] # True = asc; False = desc\n",
    "        is_valid = True\n",
    "        for j in range(len(linea_mod) - 1):\n",
    "            resta = linea_mod[j] - linea_mod[j + 1]                \n",
    "            if (resta > 0 and up_or_down) or (resta < 0 and not up_or_down) or resta == 0 or abs(resta) > 3:\n",
    "                is_valid = False\n",
    "                \n",
    "        if is_valid:\n",
    "            return 1\n",
    "    return 0 "
   ]
  },
  {
   "cell_type": "code",
   "execution_count": 5,
   "metadata": {},
   "outputs": [],
   "source": [
    "def isvalidv2(line):\n",
    "    for i in range(len(line)):\n",
    "        \n",
    "        linea_mod = [e for j, e in enumerate(line) if j != i]    \n",
    "\n",
    "        is_inc = all([0 < linea_mod[i+1] - linea_mod[i] <= 3 for i in range(len(linea_mod) - 1)])\n",
    "        is_dec = all([-3 <= linea_mod[i+1] - linea_mod[i] < 0 for i in range(len(linea_mod) - 1)])\n",
    "        if is_inc or is_dec:\n",
    "            return 1\n",
    "    return 0"
   ]
  },
  {
   "cell_type": "code",
   "execution_count": 6,
   "metadata": {},
   "outputs": [
    {
     "name": "stdout",
     "output_type": "stream",
     "text": [
      "Resultado = 311\n"
     ]
    }
   ],
   "source": [
    "import re\n",
    "\n",
    "count = 0\n",
    "with open(\"input.txt\") as f:\n",
    "    while line := f.readline():\n",
    "        line_split = re.split(r\"\\s+\",line.strip())\n",
    "        line_split = [int(x) for x in line_split]\n",
    "        count += isvalidv2(line_split)\n",
    "\n",
    "print(\"Resultado = \" + str(count))"
   ]
  }
 ],
 "metadata": {
  "kernelspec": {
   "display_name": "Python 3",
   "language": "python",
   "name": "python3"
  },
  "language_info": {
   "codemirror_mode": {
    "name": "ipython",
    "version": 3
   },
   "file_extension": ".py",
   "mimetype": "text/x-python",
   "name": "python",
   "nbconvert_exporter": "python",
   "pygments_lexer": "ipython3",
   "version": "3.13.0"
  }
 },
 "nbformat": 4,
 "nbformat_minor": 2
}
