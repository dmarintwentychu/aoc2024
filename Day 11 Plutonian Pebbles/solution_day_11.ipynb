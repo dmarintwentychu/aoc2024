{
 "cells": [
  {
   "cell_type": "markdown",
   "metadata": {},
   "source": [
    "## Primera parte"
   ]
  },
  {
   "cell_type": "code",
   "execution_count": 115,
   "metadata": {},
   "outputs": [],
   "source": [
    "import re\n",
    "with open(\"input.txt\") as f:\n",
    "\n",
    "    stones = []\n",
    "    line = f.readline().strip()\n",
    "    line = re.split(r\"\\s+\",line)\n",
    "\n",
    "    stones = [int(c) for c in line]"
   ]
  },
  {
   "cell_type": "code",
   "execution_count": null,
   "metadata": {},
   "outputs": [],
   "source": [
    "def split_number(n):\n",
    "    length = len(str(n))\n",
    "    divisor = 10 ** (length // 2)\n",
    "    return n // divisor, n % divisor\n",
    "\n",
    "def process_stone(n):\n",
    "    \n",
    "    if n == 0:\n",
    "        return [1] \n",
    "    elif len(str(n)) % 2 == 0:\n",
    "        left, right = split_number(n)\n",
    "        return [left, right]  # Dividir en dos partes\n",
    "    else:\n",
    "        return [n * 2024]  # Multiplicar por 2024"
   ]
  },
  {
   "cell_type": "markdown",
   "metadata": {},
   "source": [
    "Para mas de 25, este algoritmo se hace muy pesado"
   ]
  },
  {
   "cell_type": "code",
   "execution_count": null,
   "metadata": {},
   "outputs": [],
   "source": [
    "for i in range(25):\n",
    "    new_stones = []\n",
    "    for stone in stones:\n",
    "        new_stones.extend(process_stone(stone))  \n",
    "    stones = new_stones  \n",
    "\n",
    "print(len(stones))"
   ]
  },
  {
   "cell_type": "markdown",
   "metadata": {},
   "source": [
    "## Segunda parte"
   ]
  },
  {
   "cell_type": "code",
   "execution_count": 13,
   "metadata": {},
   "outputs": [],
   "source": [
    "import re\n",
    "with open(\"input.txt\") as f:\n",
    "\n",
    "    stones = []\n",
    "    line = f.readline().strip()\n",
    "    line = re.split(r\"\\s+\",line)\n",
    "\n",
    "    stones = [int(c) for c in line]"
   ]
  },
  {
   "cell_type": "markdown",
   "metadata": {},
   "source": [
    "Vamos a optimizar todo esto con programacion dinamica"
   ]
  },
  {
   "cell_type": "code",
   "execution_count": 14,
   "metadata": {},
   "outputs": [],
   "source": [
    "previous_results = {}\n",
    "def split_number(n):\n",
    "    length = len(str(n))\n",
    "    divisor = 10 ** (length // 2)\n",
    "    return n // divisor, n % divisor\n",
    "\n",
    "def process_stone(number,step):\n",
    "    \n",
    "    if step == 0:\n",
    "        return 1\n",
    "\n",
    "    if (number,step) in previous_results:\n",
    "         return previous_results[(number,step)]\n",
    "\n",
    "    if number == 0:\n",
    "        count = process_stone(1,step-1)\n",
    "    elif len(str(number)) % 2 == 0:\n",
    "        left, right = split_number(number)\n",
    "        count = process_stone(left, step - 1) + process_stone(right,step-1)\n",
    "    else:\n",
    "         count = process_stone(number * 2024, step - 1)\n",
    "    \n",
    "    if (number,step) not in previous_results:\n",
    "        previous_results[(number,step)] = count\n",
    "\n",
    "    return count"
   ]
  },
  {
   "cell_type": "code",
   "execution_count": 15,
   "metadata": {},
   "outputs": [],
   "source": [
    "result = sum([process_stone(stone,75) for stone in stones])"
   ]
  },
  {
   "cell_type": "code",
   "execution_count": 16,
   "metadata": {},
   "outputs": [
    {
     "data": {
      "text/plain": [
       "239321955280205"
      ]
     },
     "execution_count": 16,
     "metadata": {},
     "output_type": "execute_result"
    }
   ],
   "source": [
    "result"
   ]
  }
 ],
 "metadata": {
  "kernelspec": {
   "display_name": "Python 3",
   "language": "python",
   "name": "python3"
  },
  "language_info": {
   "codemirror_mode": {
    "name": "ipython",
    "version": 3
   },
   "file_extension": ".py",
   "mimetype": "text/x-python",
   "name": "python",
   "nbconvert_exporter": "python",
   "pygments_lexer": "ipython3",
   "version": "3.13.0"
  }
 },
 "nbformat": 4,
 "nbformat_minor": 2
}
