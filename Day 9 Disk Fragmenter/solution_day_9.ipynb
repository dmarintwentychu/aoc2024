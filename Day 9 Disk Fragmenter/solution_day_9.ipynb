{
 "cells": [
  {
   "cell_type": "markdown",
   "metadata": {},
   "source": [
    "## Primera parte"
   ]
  },
  {
   "cell_type": "code",
   "execution_count": 11,
   "metadata": {},
   "outputs": [],
   "source": [
    "with open(\"input.txt\") as f:\n",
    "\n",
    "    line = f.readline().strip()\n",
    "    res = []\n",
    "    n = 0\n",
    "    index_count = 0\n",
    "    while n < len(line):\n",
    "        \n",
    "        # Si n es par devuelve n si no es un punto\n",
    "        c = index_count if n % 2 == 0 else \".\"\n",
    "        [res.append(str(c)) for i in range(int(line[n]))]\n",
    "        if n % 2 == 0:\n",
    "            index_count+=1\n",
    "        n+=1"
   ]
  },
  {
   "cell_type": "code",
   "execution_count": 12,
   "metadata": {},
   "outputs": [],
   "source": [
    "\n",
    "# Recorro la lista al revés\n",
    "last_j = 0\n",
    "for i in range(len(res)-1,-1,-1):\n",
    "    # Si se encuentra un elemento (numero) se recorre la lista normal\n",
    "    if res[i] != \".\":\n",
    "        for j in range(last_j,len(res[:i])):\n",
    "            if res[j] == \".\":\n",
    "                res[i],res[j] = res[j], res[i]\n",
    "                last_j = j + 1\n",
    "                break"
   ]
  },
  {
   "cell_type": "code",
   "execution_count": 13,
   "metadata": {},
   "outputs": [
    {
     "name": "stdout",
     "output_type": "stream",
     "text": [
      "Resultado = 6330095022244\n"
     ]
    }
   ],
   "source": [
    "result = sum([id*int(num) for id,num in enumerate(res) if num != \".\"])\n",
    "print(\"Resultado = \"+ str(result))"
   ]
  },
  {
   "cell_type": "markdown",
   "metadata": {},
   "source": [
    "## Segunda parte"
   ]
  },
  {
   "cell_type": "code",
   "execution_count": 14,
   "metadata": {},
   "outputs": [],
   "source": [
    "with open(\"input.txt\") as f:\n",
    "\n",
    "    line = f.readline().strip()\n",
    "    res = []\n",
    "    n = 0\n",
    "    index_count = 0\n",
    "    while n < len(line):\n",
    "        \n",
    "        # Si n es par devuelve n si no es un punto\n",
    "        c = index_count if n % 2 == 0 else \".\"\n",
    "        [res.append(str(c)) for i in range(int(line[n]))]\n",
    "        if n % 2 == 0:\n",
    "            index_count+=1\n",
    "        n+=1"
   ]
  },
  {
   "cell_type": "code",
   "execution_count": 15,
   "metadata": {},
   "outputs": [],
   "source": [
    "def update_points(longitud):\n",
    "    global point_positions\n",
    "    point_positions = {}\n",
    "    i = 0\n",
    "    while i < longitud:\n",
    "        if res[i] == \".\":\n",
    "            pos = i\n",
    "            point_positions.setdefault(pos,0)\n",
    "            while i < len(res) and res[i] == \".\":\n",
    "                point_positions[pos]+=1\n",
    "                i+=1\n",
    "        else:\n",
    "            i+=1"
   ]
  },
  {
   "cell_type": "code",
   "execution_count": null,
   "metadata": {},
   "outputs": [],
   "source": [
    "def check_space(res,subc,i,cadena_ind):\n",
    "    for point in point_positions:\n",
    "        total_space = int(len(subc)/len(cadena_ind))\n",
    "        if total_space <= point_positions[point]:\n",
    "            if point >= i:\n",
    "                return\n",
    "            for space in range(total_space):\n",
    "                res[point+space] = cadena_ind\n",
    "                res[i+space] = \".\"\n",
    "            return\n",
    "    return"
   ]
  },
  {
   "cell_type": "code",
   "execution_count": 17,
   "metadata": {},
   "outputs": [],
   "source": [
    "subc = \"\"\n",
    "update_points(len(res))\n",
    "for i in range(len(res)-1,-1,-1):\n",
    "    if res[i-1] == \".\" or res[i] != res[i-1]:\n",
    "        if res[i] != \".\":\n",
    "            cadena_ind = res[i]\n",
    "            subc+=res[i]\n",
    "            check_space(res,subc,i,cadena_ind)\n",
    "            update_points(i)\n",
    "            subc = \"\"\n",
    "    else:\n",
    "        subc+=res[i]"
   ]
  },
  {
   "cell_type": "code",
   "execution_count": null,
   "metadata": {},
   "outputs": [
    {
     "name": "stdout",
     "output_type": "stream",
     "text": [
      "Resultado = 6359491814941\n"
     ]
    }
   ],
   "source": [
    "result = sum([id*int(num) for id,num in enumerate(res) if num != \".\"])\n",
    "print(\"Resultado = \"+ str(result))"
   ]
  }
 ],
 "metadata": {
  "kernelspec": {
   "display_name": "Python 3",
   "language": "python",
   "name": "python3"
  },
  "language_info": {
   "codemirror_mode": {
    "name": "ipython",
    "version": 3
   },
   "file_extension": ".py",
   "mimetype": "text/x-python",
   "name": "python",
   "nbconvert_exporter": "python",
   "pygments_lexer": "ipython3",
   "version": "3.13.0"
  }
 },
 "nbformat": 4,
 "nbformat_minor": 2
}
