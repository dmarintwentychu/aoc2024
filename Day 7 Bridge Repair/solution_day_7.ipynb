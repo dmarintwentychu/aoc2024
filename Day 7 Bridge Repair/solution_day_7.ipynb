{
 "cells": [
  {
   "cell_type": "markdown",
   "metadata": {},
   "source": [
    "## Primera parte"
   ]
  },
  {
   "cell_type": "code",
   "execution_count": 1,
   "metadata": {},
   "outputs": [],
   "source": [
    "import re\n",
    "with open(\"input.txt\") as f:\n",
    "\n",
    "    results = []\n",
    "    operandos = []\n",
    "    while line:= f.readline():\n",
    "\n",
    "        line = line.strip().split(\":\")\n",
    "        results.append(int(line[0]))\n",
    "        splited_op = re.split(r\"\\s+\",line[1].strip())\n",
    "        splited_op = [int(x) for x in splited_op]\n",
    "        operandos.append(splited_op)\n",
    "\n",
    "        "
   ]
  },
  {
   "cell_type": "code",
   "execution_count": 2,
   "metadata": {},
   "outputs": [],
   "source": [
    "def concat(a, b):\n",
    "    b_digits = len(str(b))\n",
    "    return a * (10 ** b_digits) + b\n",
    "\n",
    "def calculate(op,n_operadores):\n",
    "\n",
    "    result = op[0]\n",
    "    for i in range(len(n_operadores)):\n",
    "\n",
    "        match n_operadores[i]:\n",
    "\n",
    "            case \"+\":\n",
    "                result+= op[i+1]\n",
    "            case \"*\":\n",
    "                result*= op[i+1]\n",
    "                \n",
    "            # Parte 2\n",
    "            case \"||\":\n",
    "                result = concat(result,op[i+1])\n",
    "\n",
    "    return result"
   ]
  },
  {
   "cell_type": "code",
   "execution_count": 3,
   "metadata": {},
   "outputs": [
    {
     "name": "stdout",
     "output_type": "stream",
     "text": [
      "Resultado = 8401132154762\n"
     ]
    }
   ],
   "source": [
    "from itertools import product\n",
    "operadores = [\"+\",\"*\"]\n",
    "count = 0\n",
    "for op,result in zip(operandos, results):\n",
    "    for n_operadores in product(operadores,repeat=len(op)-1):\n",
    "        \n",
    "        r_calculated = calculate(op,n_operadores)\n",
    "        # Check de resultado\n",
    "        if r_calculated == result:\n",
    "            count+=r_calculated\n",
    "            break\n",
    "print(\"Resultado = \"+str(count))"
   ]
  },
  {
   "cell_type": "markdown",
   "metadata": {},
   "source": [
    "## Segunda parte"
   ]
  },
  {
   "cell_type": "code",
   "execution_count": 4,
   "metadata": {},
   "outputs": [
    {
     "name": "stdout",
     "output_type": "stream",
     "text": [
      "Resultado = 95297119227552\n"
     ]
    }
   ],
   "source": [
    "from itertools import product\n",
    "operadores = [\"+\",\"*\",\"||\"]\n",
    "count = 0\n",
    "for op,result in zip(operandos, results):\n",
    "    for n_operadores in product(operadores,repeat=len(op)-1):\n",
    "        \n",
    "        r_calculated = calculate(op,n_operadores)\n",
    "        # Check de resultado\n",
    "        if r_calculated == result:\n",
    "            count+=r_calculated\n",
    "            break\n",
    "print(\"Resultado = \"+str(count))"
   ]
  }
 ],
 "metadata": {
  "kernelspec": {
   "display_name": "Python 3",
   "language": "python",
   "name": "python3"
  },
  "language_info": {
   "codemirror_mode": {
    "name": "ipython",
    "version": 3
   },
   "file_extension": ".py",
   "mimetype": "text/x-python",
   "name": "python",
   "nbconvert_exporter": "python",
   "pygments_lexer": "ipython3",
   "version": "3.13.0"
  }
 },
 "nbformat": 4,
 "nbformat_minor": 2
}
