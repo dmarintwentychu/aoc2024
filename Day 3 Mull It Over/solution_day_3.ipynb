{
 "cells": [
  {
   "cell_type": "markdown",
   "metadata": {},
   "source": [
    "## Primera parte"
   ]
  },
  {
   "cell_type": "code",
   "execution_count": 1,
   "metadata": {},
   "outputs": [
    {
     "name": "stdout",
     "output_type": "stream",
     "text": [
      "183380722\n"
     ]
    }
   ],
   "source": [
    "import re\n",
    "res = 0\n",
    "with open(\"input.txt\") as f:\n",
    "\n",
    "    while line := f.readline():\n",
    "        \n",
    "        a = re.findall(r\"mul\\(\\d+,\\d+\\)\",line)\n",
    "\n",
    "        for b in a:\n",
    "            c = b.replace(\"mul(\",\"\").replace(\")\",\"\").split(\",\")\n",
    "            res += int(c[0]) * int(c[1])\n",
    "        \n",
    "print(res)"
   ]
  },
  {
   "cell_type": "markdown",
   "metadata": {},
   "source": [
    "## Segunda parte"
   ]
  },
  {
   "cell_type": "code",
   "execution_count": 2,
   "metadata": {},
   "outputs": [
    {
     "name": "stdout",
     "output_type": "stream",
     "text": [
      "82733683\n"
     ]
    }
   ],
   "source": [
    "import re\n",
    "res = 0\n",
    "with open(\"input.txt\") as f:\n",
    "\n",
    "    previous = True\n",
    "    while line := f.readline():\n",
    "        \n",
    "        a = re.findall(r\"mul\\(\\d+,\\d+\\)|do\\(\\)|don't\\(\\)\",line)\n",
    "        \n",
    "        for i in range(len(a)):\n",
    "            a[i] = (a[i].replace(\"mul(\",\"\")\n",
    "                        .replace(\"do()\",\"1\")\n",
    "                        .replace(\"don't()\",\"0\")\n",
    "                        .replace(\")\",\"\")\n",
    "                        .split(\",\"))\n",
    "        for j in a:\n",
    "            if len(j) == 1:\n",
    "                previous = j[0] == \"1\"\n",
    "            else:\n",
    "                if previous:\n",
    "                    res += int(j[0]) * int(j[1])\n",
    "        \n",
    "print(res)"
   ]
  }
 ],
 "metadata": {
  "kernelspec": {
   "display_name": "Python 3",
   "language": "python",
   "name": "python3"
  },
  "language_info": {
   "codemirror_mode": {
    "name": "ipython",
    "version": 3
   },
   "file_extension": ".py",
   "mimetype": "text/x-python",
   "name": "python",
   "nbconvert_exporter": "python",
   "pygments_lexer": "ipython3",
   "version": "3.13.0"
  }
 },
 "nbformat": 4,
 "nbformat_minor": 2
}
