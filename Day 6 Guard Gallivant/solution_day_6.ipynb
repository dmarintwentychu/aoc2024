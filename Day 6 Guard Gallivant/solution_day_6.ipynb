{
 "cells": [
  {
   "cell_type": "markdown",
   "metadata": {},
   "source": [
    "## Primera parte"
   ]
  },
  {
   "cell_type": "code",
   "execution_count": 1,
   "metadata": {},
   "outputs": [],
   "source": [
    "import copy\n",
    "direcction = [(0,-1),(1,0),(0,1),(-1,0)] # X e Y\n",
    "\n",
    "with open(\"input.txt\") as f:\n",
    "\n",
    "    map_og = []\n",
    "    position = None\n",
    "    i = 0\n",
    "    while line := f.readline():\n",
    "        \n",
    "        if \"^\" in line:\n",
    "            pos = (i,line.find(\"^\"))\n",
    "        \n",
    "        line_split = [c for c in line.strip()]\n",
    "        map_og.append(line_split)\n",
    "        i +=1"
   ]
  },
  {
   "cell_type": "code",
   "execution_count": 2,
   "metadata": {},
   "outputs": [
    {
     "name": "stdout",
     "output_type": "stream",
     "text": [
      "Resultado = 5131\n"
     ]
    }
   ],
   "source": [
    "from IPython.display import clear_output\n",
    "from time import sleep\n",
    "\n",
    "dir_step = 0\n",
    "end = True\n",
    "i,j = pos\n",
    "count = 0\n",
    "map = copy.deepcopy(map_og)\n",
    "visited = set()\n",
    "while end:\n",
    "\n",
    "    #Avanzar\n",
    "    jaux,iaux = direcction[dir_step]\n",
    "    i+=iaux\n",
    "    j+=jaux\n",
    "\n",
    "    # Check de pared\n",
    "    if map[i][j] == \"#\":\n",
    "        #Girar y sumar dir_step\n",
    "        dir_step = (dir_step+1) % len(direcction)\n",
    "        # Nos mantenemos en el sitio\n",
    "        i-=iaux\n",
    "        j-=jaux\n",
    "    else:\n",
    "        #Check de llegada?\n",
    "        if (j >= len(map[0]) - 1 or j <= 0 or i >= len(map) - 1 or i <= 0):\n",
    "            end = False \n",
    "\n",
    "        # Marcar y repetir\n",
    "        if (i,j) not in visited:\n",
    "            visited.add((i,j))\n",
    "            count+=1\n",
    "\n",
    "print(\"Resultado = \"+ str(count))"
   ]
  },
  {
   "cell_type": "markdown",
   "metadata": {},
   "source": [
    "## Segunda parte"
   ]
  },
  {
   "cell_type": "code",
   "execution_count": 3,
   "metadata": {},
   "outputs": [],
   "source": [
    "\n",
    "def check_recorrido(map_aux):\n",
    "    \n",
    "    dir_step = 0\n",
    "    end = True\n",
    "    i,j = pos\n",
    "    visited = set()\n",
    "    while end:\n",
    "\n",
    "        #Avanzar\n",
    "        jaux,iaux = direcction[dir_step]\n",
    "        i+=iaux\n",
    "        j+=jaux\n",
    "\n",
    "        # Check de pared\n",
    "        if map_aux[i][j] == \"#\":\n",
    "            #Girar y sumar dir_step\n",
    "            dir_step = (dir_step+1) % len(direcction)\n",
    "            # Nos mantenemos en el sitio\n",
    "            i-=iaux\n",
    "            j-=jaux\n",
    "        else:\n",
    "            #Check de llegada?\n",
    "            if (j >= len(map_aux[0]) - 1 or j <= 0 or i >= len(map_aux) - 1 or i <= 0):\n",
    "                end = False \n",
    "\n",
    "            # Marcar y repetir\n",
    "            if (i,j,dir_step) in visited:\n",
    "                return 1\n",
    "            else:\n",
    "                visited.add((i,j,dir_step))\n",
    "    return 0\n",
    "            "
   ]
  },
  {
   "cell_type": "code",
   "execution_count": null,
   "metadata": {},
   "outputs": [
    {
     "name": "stdout",
     "output_type": "stream",
     "text": [
      "1784\n"
     ]
    }
   ],
   "source": [
    "map_aux = []\n",
    "count = 0\n",
    "for i,j in visited:\n",
    "    if (i,j) != pos:\n",
    "        # Deep copy es lo que da complejidad\n",
    "        map_aux = copy.deepcopy(map_og)\n",
    "        map_aux[i][j] = \"#\"\n",
    "        count += check_recorrido(map_aux)\n",
    "print(count)"
   ]
  }
 ],
 "metadata": {
  "kernelspec": {
   "display_name": "Python 3",
   "language": "python",
   "name": "python3"
  },
  "language_info": {
   "codemirror_mode": {
    "name": "ipython",
    "version": 3
   },
   "file_extension": ".py",
   "mimetype": "text/x-python",
   "name": "python",
   "nbconvert_exporter": "python",
   "pygments_lexer": "ipython3",
   "version": "3.13.0"
  }
 },
 "nbformat": 4,
 "nbformat_minor": 2
}
