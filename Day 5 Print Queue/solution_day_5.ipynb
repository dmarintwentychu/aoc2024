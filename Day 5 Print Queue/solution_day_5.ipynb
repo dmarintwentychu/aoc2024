{
 "cells": [
  {
   "cell_type": "markdown",
   "metadata": {},
   "source": [
    "## Primera parte"
   ]
  },
  {
   "cell_type": "code",
   "execution_count": 1,
   "metadata": {},
   "outputs": [
    {
     "name": "stdout",
     "output_type": "stream",
     "text": [
      "[]\n"
     ]
    }
   ],
   "source": [
    "import re\n",
    "rules = {}\n",
    "lines = []\n",
    "def read_file():\n",
    "    global rules,lines\n",
    "    rules = {}\n",
    "    lines = []\n",
    "    with open(\"input.txt\") as f:\n",
    "        while line:= f.readline():\n",
    "            if \"|\" in line:\n",
    "                line_split = line.strip().split(\"|\")\n",
    "                rules.setdefault(int(line_split[0]),[])\n",
    "                rules[int(line_split[0])].append(int(line_split[1]))\n",
    "\n",
    "\n",
    "            if \",\" in line:\n",
    "                l = line.strip().split(\",\")\n",
    "                l = [int(x) for x in l]\n",
    "                lines.append(l)\n",
    "            \n",
    "print(lines)"
   ]
  },
  {
   "cell_type": "code",
   "execution_count": 2,
   "metadata": {},
   "outputs": [],
   "source": [
    "def is_valid(lines,i,j,rules):\n",
    "    for r in rules[lines[i][j]]:\n",
    "        if r in lines[i][:j]:\n",
    "            return False\n",
    "    return True"
   ]
  },
  {
   "cell_type": "code",
   "execution_count": 3,
   "metadata": {},
   "outputs": [
    {
     "name": "stdout",
     "output_type": "stream",
     "text": [
      "5452\n"
     ]
    }
   ],
   "source": [
    "count = 0\n",
    "read_file()\n",
    "for i in range(len(lines)):\n",
    "    count_truth = all(\n",
    "                      is_valid(lines,i,j,rules)\n",
    "                      for j in range(len(lines[i]))\n",
    "                      if lines[i][j] in rules.keys()\n",
    "                    )\n",
    "    if count_truth:\n",
    "        count += lines[i][len(lines[i])//2]\n",
    "            \n",
    "\n",
    "print(count)"
   ]
  },
  {
   "cell_type": "markdown",
   "metadata": {},
   "source": [
    "## Segunda parte"
   ]
  },
  {
   "cell_type": "code",
   "execution_count": 4,
   "metadata": {},
   "outputs": [],
   "source": [
    "def order_by_rule(line,rules):\n",
    "    changed = True\n",
    "    changes = False\n",
    "    while changed:\n",
    "        changed = False\n",
    "        for i in range(len(line)):\n",
    "            if line[i] in rules: \n",
    "                for r in rules[line[i]]:\n",
    "                    for j in range(i):\n",
    "                        if r == line[j]:\n",
    "                            line[j], line[i] = line[i] , line[j]\n",
    "                            changed = True\n",
    "                            changes = True\n",
    "    return changes"
   ]
  },
  {
   "cell_type": "code",
   "execution_count": 5,
   "metadata": {},
   "outputs": [
    {
     "name": "stdout",
     "output_type": "stream",
     "text": [
      "4598\n"
     ]
    }
   ],
   "source": [
    "count = 0\n",
    "read_file()\n",
    "for line in lines:\n",
    "    changes = order_by_rule(line,rules)\n",
    "    if changes:\n",
    "        count += line[len(line)//2]\n",
    "        \n",
    "print(count)"
   ]
  }
 ],
 "metadata": {
  "kernelspec": {
   "display_name": "Python 3",
   "language": "python",
   "name": "python3"
  },
  "language_info": {
   "codemirror_mode": {
    "name": "ipython",
    "version": 3
   },
   "file_extension": ".py",
   "mimetype": "text/x-python",
   "name": "python",
   "nbconvert_exporter": "python",
   "pygments_lexer": "ipython3",
   "version": "3.13.0"
  }
 },
 "nbformat": 4,
 "nbformat_minor": 2
}
