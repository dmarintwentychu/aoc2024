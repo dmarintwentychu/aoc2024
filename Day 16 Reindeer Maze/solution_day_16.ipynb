{
 "cells": [
  {
   "cell_type": "markdown",
   "metadata": {},
   "source": [
    "## Primera parte"
   ]
  },
  {
   "cell_type": "code",
   "execution_count": 23,
   "metadata": {},
   "outputs": [],
   "source": [
    "with open(\"input.txt\") as f:\n",
    "\n",
    "    board = []\n",
    "    while line:=f.readline():\n",
    "        board.append([c for c in line.strip()])\n"
   ]
  },
  {
   "cell_type": "code",
   "execution_count": 24,
   "metadata": {},
   "outputs": [
    {
     "name": "stdout",
     "output_type": "stream",
     "text": [
      "Camino más corto: 105508\n"
     ]
    }
   ],
   "source": [
    "import heapq\n",
    "\n",
    "def a_star(matrix, start, goal):\n",
    "    moves = {\n",
    "        'up': (-1, 0),\n",
    "        'down': (1, 0),\n",
    "        'left': (0, -1),\n",
    "        'right': (0, 1)\n",
    "    }\n",
    "\n",
    "    # Cola de prioridad para manejar los nodos abiertos\n",
    "    open_set = []\n",
    "    heapq.heappush(open_set, (0, start))\n",
    "\n",
    "    # Diccionario para almacenar los costos más bajos conocidos desde el inicio hasta cada nodo\n",
    "    g_score = {}\n",
    "    g_score[start] = 0\n",
    "\n",
    "    # Diccionario para almacenar la estimación de costo total (g + h)\n",
    "    f_score = {}\n",
    "    f_score[start] = heuristic(start, goal)\n",
    "\n",
    "    while open_set:\n",
    "        _, current = heapq.heappop(open_set)\n",
    "        x, y, direction = current\n",
    "\n",
    "        if (x, y) == goal:\n",
    "            return g_score[current]\n",
    "\n",
    "        # Explorar vecinos\n",
    "        for move_dir, (dx, dy) in moves.items():\n",
    "            neighbor = (x + dx, y + dy, move_dir)\n",
    "\n",
    "            if 0 <= neighbor[0] < len(matrix) and 0 <= neighbor[1] < len(matrix[0]) and matrix[neighbor[0]][neighbor[1]] != '#':\n",
    "\n",
    "                tentative_g_score = g_score[current] + 1\n",
    "\n",
    "                if direction != move_dir:\n",
    "                    tentative_g_score += 1000\n",
    "                    \n",
    "                if neighbor not in g_score or tentative_g_score < g_score[neighbor]:\n",
    "                    g_score[neighbor] = tentative_g_score\n",
    "                    f_score[neighbor] = g_score[neighbor] + heuristic(neighbor, goal)\n",
    "\n",
    "                    heapq.heappush(open_set, (f_score[neighbor], neighbor))\n",
    "\n",
    "    return None  \n",
    "\n",
    "def heuristic(current, goal):\n",
    "    x, y, _ = current\n",
    "    gx, gy = goal\n",
    "    return abs(x - gx) + abs(y - gy)\n",
    "\n",
    "start = (len(board) - 2, 1, 'right')\n",
    "goal = (1, len(board[0] )- 2)\n",
    "\n",
    "path = a_star(board, start, goal)\n",
    "print(\"Camino más corto:\", path)\n"
   ]
  }
 ],
 "metadata": {
  "kernelspec": {
   "display_name": "Python 3",
   "language": "python",
   "name": "python3"
  },
  "language_info": {
   "codemirror_mode": {
    "name": "ipython",
    "version": 3
   },
   "file_extension": ".py",
   "mimetype": "text/x-python",
   "name": "python",
   "nbconvert_exporter": "python",
   "pygments_lexer": "ipython3",
   "version": "3.13.0"
  }
 },
 "nbformat": 4,
 "nbformat_minor": 2
}
