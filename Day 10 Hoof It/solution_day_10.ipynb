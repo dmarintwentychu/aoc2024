{
 "cells": [
  {
   "cell_type": "markdown",
   "metadata": {},
   "source": [
    "## Primera parte"
   ]
  },
  {
   "cell_type": "code",
   "execution_count": 235,
   "metadata": {},
   "outputs": [],
   "source": [
    "with open(\"input.txt\") as f:\n",
    "    mat = []\n",
    "    while line:=f.readline():\n",
    "        line = [int(c) for c in line.strip()]\n",
    "        mat.append(line)"
   ]
  },
  {
   "cell_type": "code",
   "execution_count": 236,
   "metadata": {},
   "outputs": [],
   "source": [
    "def check_boundaries(mat,i,j):\n",
    "    return (i > len(mat) - 1 or i < 0 or j > len(mat[i]) - 1 or j < 0)"
   ]
  },
  {
   "cell_type": "code",
   "execution_count": 237,
   "metadata": {},
   "outputs": [],
   "source": [
    "import numpy as np\n",
    "def recorrer(mat,i,j,set_of_points: set,prev_dir=-1):\n",
    "    count = 0\n",
    "    \n",
    "    if mat[i][j] == 9 and (i,j) not in set_of_points:\n",
    "        set_of_points.add((i,j))\n",
    "        return 1\n",
    "    \n",
    "    direcctions = [(0,1),(0,-1),(1,0),(-1,0)]\n",
    "\n",
    "    for n in range(len(direcctions)):\n",
    "        \n",
    "        # Saltar la direccion previa\n",
    "        if prev_dir == n:\n",
    "            continue\n",
    "        # Comprobar boundaries\n",
    "        y,x = i+direcctions[n][0], j+direcctions[n][1]\n",
    "\n",
    "        if check_boundaries(mat,y,x):\n",
    "            continue\n",
    "        if ((mat[y][x] - 1) == mat[i][j]):\n",
    "            dy,dx = -direcctions[n][0], -direcctions[n][1]\n",
    "            count+= recorrer(mat,y,x,set_of_points,direcctions.index((dy,dx)))\n",
    "    return count"
   ]
  },
  {
   "cell_type": "code",
   "execution_count": 238,
   "metadata": {},
   "outputs": [
    {
     "name": "stdout",
     "output_type": "stream",
     "text": [
      "Resultado = 694\n"
     ]
    }
   ],
   "source": [
    "result = 0\n",
    "for i in range(len(mat)):\n",
    "    for j in range(len(mat[0])):\n",
    "        if mat[i][j] == 0:\n",
    "            set_of_points = set()\n",
    "            result += recorrer(mat,i,j,set_of_points)\n",
    "\n",
    "print(\"Resultado = \"+ str(result))"
   ]
  },
  {
   "cell_type": "markdown",
   "metadata": {},
   "source": [
    "## Segunda parte"
   ]
  },
  {
   "cell_type": "code",
   "execution_count": 239,
   "metadata": {},
   "outputs": [],
   "source": [
    "import numpy as np\n",
    "def recorrer(mat,i,j,prev_dir=-1):\n",
    "    count = 0\n",
    "    \n",
    "    if mat[i][j] == 9:\n",
    "        return 1\n",
    "    \n",
    "    direcctions = [(0,1),(0,-1),(1,0),(-1,0)]\n",
    "\n",
    "    for n in range(len(direcctions)):\n",
    "        \n",
    "        # Saltar la direccion previa\n",
    "        if prev_dir == n:\n",
    "            continue\n",
    "        # Comprobar boundaries\n",
    "        y,x = i+direcctions[n][0], j+direcctions[n][1]\n",
    "\n",
    "        if check_boundaries(mat,y,x):\n",
    "            continue\n",
    "        if ((mat[y][x] - 1) == mat[i][j]):\n",
    "            dy,dx = -direcctions[n][0], -direcctions[n][1]\n",
    "            count+= recorrer(mat,y,x,direcctions.index((dy,dx)))\n",
    "    return count"
   ]
  },
  {
   "cell_type": "code",
   "execution_count": 240,
   "metadata": {},
   "outputs": [
    {
     "name": "stdout",
     "output_type": "stream",
     "text": [
      "Resultado = 1497\n"
     ]
    }
   ],
   "source": [
    "result = 0\n",
    "for i in range(len(mat)):\n",
    "    for j in range(len(mat[0])):\n",
    "        if mat[i][j] == 0:\n",
    "            result += recorrer(mat,i,j)\n",
    "print(\"Resultado = \"+ str(result))"
   ]
  }
 ],
 "metadata": {
  "kernelspec": {
   "display_name": "Python 3",
   "language": "python",
   "name": "python3"
  },
  "language_info": {
   "codemirror_mode": {
    "name": "ipython",
    "version": 3
   },
   "file_extension": ".py",
   "mimetype": "text/x-python",
   "name": "python",
   "nbconvert_exporter": "python",
   "pygments_lexer": "ipython3",
   "version": "3.13.0"
  }
 },
 "nbformat": 4,
 "nbformat_minor": 2
}
