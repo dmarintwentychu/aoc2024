{
 "cells": [
  {
   "cell_type": "markdown",
   "metadata": {},
   "source": [
    "## Primera parte"
   ]
  },
  {
   "cell_type": "code",
   "execution_count": 5,
   "metadata": {},
   "outputs": [],
   "source": [
    "with open(\"input.txt\") as f:\n",
    "    mat = []\n",
    "    while line := f.readline():\n",
    "        mat.append([c for c in line.strip()])"
   ]
  },
  {
   "cell_type": "code",
   "execution_count": 6,
   "metadata": {},
   "outputs": [],
   "source": [
    "antenas = {}\n",
    "for i in range(len(mat)):\n",
    "    for j in range(len(mat[i])):\n",
    "        if mat[i][j] != \".\":\n",
    "            antenas.setdefault(mat[i][j],[])\n",
    "            antenas[mat[i][j]].append((i,j))"
   ]
  },
  {
   "cell_type": "code",
   "execution_count": 7,
   "metadata": {},
   "outputs": [],
   "source": [
    "def check_unavailability(mat,i,j):\n",
    "    return (i > len(mat) - 1 or i < 0 or j > len(mat[i]) - 1 or j < 0)"
   ]
  },
  {
   "cell_type": "code",
   "execution_count": 4,
   "metadata": {},
   "outputs": [
    {
     "data": {
      "text/plain": [
       "305"
      ]
     },
     "execution_count": 4,
     "metadata": {},
     "output_type": "execute_result"
    }
   ],
   "source": [
    "count = 0\n",
    "set_of_positions = set()\n",
    "for antena in antenas:\n",
    "    while len(antenas[antena]) > 1:\n",
    "        aux = [x for x in antenas[antena] if x != antenas[antena][0]]\n",
    "        for e in aux:\n",
    "            it_i = antenas[antena][0][0]\n",
    "            it_j = antenas[antena][0][1]\n",
    "            difference_i = it_i - e[0]\n",
    "            difference_j = it_j - e[1]\n",
    "         \n",
    "            if not check_unavailability(mat,it_i+difference_i,it_j+difference_j):\n",
    "                if (it_i+difference_i,it_j+difference_j) not in set_of_positions:\n",
    "                    set_of_positions.add((it_i+difference_i,it_j+difference_j))\n",
    "                    count+=1\n",
    "                    # mat[it_i+difference_i][it_j+difference_j] = \"#\"\n",
    "            if not check_unavailability(mat,e[0]-difference_i,e[1]-difference_j):\n",
    "                if (e[0]-difference_i,e[1]-difference_j) not in set_of_positions:\n",
    "                    set_of_positions.add((e[0]-difference_i,e[1]-difference_j))\n",
    "                    count+=1\n",
    "                    # mat[e[0]-difference_i][e[1]-difference_j] = \"#\"\n",
    "        antenas[antena].pop(0)\n",
    "count"
   ]
  },
  {
   "cell_type": "markdown",
   "metadata": {},
   "source": [
    "## Segunda parte"
   ]
  },
  {
   "cell_type": "code",
   "execution_count": null,
   "metadata": {},
   "outputs": [
    {
     "data": {
      "text/plain": [
       "1150"
      ]
     },
     "execution_count": 8,
     "metadata": {},
     "output_type": "execute_result"
    }
   ],
   "source": [
    "count = 0\n",
    "set_of_positions = set()\n",
    "for antena in antenas:\n",
    "    while len(antenas[antena]) > 1:\n",
    "        aux = [x for x in antenas[antena] if x != antenas[antena][0]]\n",
    "        for e in aux:\n",
    "            it_i = antenas[antena][0][0]\n",
    "            it_j = antenas[antena][0][1]\n",
    "            e_i = e[0]\n",
    "            e_j = e[1]\n",
    "            \n",
    "            difference_i = it_i - e_i\n",
    "            difference_j = it_j - e_j\n",
    "\n",
    "            while not check_unavailability(mat,it_i,it_j):\n",
    "                if (it_i,it_j) not in set_of_positions:\n",
    "                    set_of_positions.add((it_i,it_j))\n",
    "                    count+=1\n",
    "                    # mat[it_i][it_j] = \"#\" if mat[it_i][it_j] == \".\" else mat[it_i][it_j]\n",
    "\n",
    "                it_i += difference_i\n",
    "                it_j += difference_j\n",
    "\n",
    "            while not check_unavailability(mat,e_i,e_j):\n",
    "                if (e_i,e_j) not in set_of_positions:\n",
    "                    set_of_positions.add((e_i,e_j))\n",
    "                    count+=1\n",
    "                    # mat[e_i][e_j] = \"#\" if mat[e_i][e_j] == \".\" else mat[e_i][e_j]\n",
    "                e_i -= difference_i \n",
    "                e_j -= difference_j\n",
    "        antenas[antena].pop(0)\n",
    "count"
   ]
  }
 ],
 "metadata": {
  "kernelspec": {
   "display_name": "Python 3",
   "language": "python",
   "name": "python3"
  },
  "language_info": {
   "codemirror_mode": {
    "name": "ipython",
    "version": 3
   },
   "file_extension": ".py",
   "mimetype": "text/x-python",
   "name": "python",
   "nbconvert_exporter": "python",
   "pygments_lexer": "ipython3",
   "version": "3.13.0"
  }
 },
 "nbformat": 4,
 "nbformat_minor": 2
}
