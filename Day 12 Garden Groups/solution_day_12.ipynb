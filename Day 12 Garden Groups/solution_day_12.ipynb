{
 "cells": [
  {
   "cell_type": "markdown",
   "metadata": {},
   "source": [
    "## Primera parte"
   ]
  },
  {
   "cell_type": "code",
   "execution_count": 193,
   "metadata": {},
   "outputs": [],
   "source": [
    "import heapq\n",
    "with open(\"input.txt\") as f:\n",
    "    board = []\n",
    "    while line:= f.readline():\n",
    "        board.append([c for c in line.strip()])"
   ]
  },
  {
   "cell_type": "code",
   "execution_count": 194,
   "metadata": {},
   "outputs": [],
   "source": [
    "def check_boundaries(mat,i,j):\n",
    "    return (i > len(mat) - 1 or i < 0 or j > len(mat[i]) - 1 or j < 0)"
   ]
  },
  {
   "cell_type": "code",
   "execution_count": 195,
   "metadata": {},
   "outputs": [],
   "source": [
    "def flood_fill(board,i,j,target,visited:set):\n",
    "\n",
    "    if check_boundaries(board,i,j) or board[i][j] != target:\n",
    "        return 1,0\n",
    "    \n",
    "    if (i,j) not in visited:\n",
    "        visited.add((i,j))\n",
    "    else: \n",
    "        return 0,0\n",
    "\n",
    "    area = 1\n",
    "    perimeter = 0\n",
    "\n",
    "    direcctions = [(0,1),(0,-1),(1,0),(-1,0)]\n",
    "    for y,x in direcctions:\n",
    "        p, a = flood_fill(board,i+y,j+x,target,visited)\n",
    "        perimeter += p\n",
    "        area += a\n",
    "    return perimeter, area"
   ]
  },
  {
   "cell_type": "code",
   "execution_count": 196,
   "metadata": {},
   "outputs": [
    {
     "name": "stdout",
     "output_type": "stream",
     "text": [
      "1184\n"
     ]
    }
   ],
   "source": [
    "import numpy as np\n",
    "result = 0\n",
    "visited = set()\n",
    "\n",
    "for i in range(len(board)):\n",
    "    for j in range(len(board)):\n",
    "        if board[i][j] != 0 and (i,j) not in visited:\n",
    "            perimeter,area = flood_fill(board,i,j,board[i][j],visited)\n",
    "            cost = area*perimeter\n",
    "            result += cost\n",
    "                    \n",
    "print(result)\n"
   ]
  }
 ],
 "metadata": {
  "kernelspec": {
   "display_name": "Python 3",
   "language": "python",
   "name": "python3"
  },
  "language_info": {
   "codemirror_mode": {
    "name": "ipython",
    "version": 3
   },
   "file_extension": ".py",
   "mimetype": "text/x-python",
   "name": "python",
   "nbconvert_exporter": "python",
   "pygments_lexer": "ipython3",
   "version": "3.13.0"
  }
 },
 "nbformat": 4,
 "nbformat_minor": 2
}
