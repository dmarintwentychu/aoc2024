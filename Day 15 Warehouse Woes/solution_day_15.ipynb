{
 "cells": [
  {
   "cell_type": "markdown",
   "metadata": {},
   "source": [
    "## Primera parte"
   ]
  },
  {
   "cell_type": "code",
   "execution_count": 476,
   "metadata": {},
   "outputs": [],
   "source": [
    "import numpy as np\n",
    "\n",
    "board = []\n",
    "instructions = []\n",
    "\n",
    "arry = 0\n",
    "with open(\"input.txt\") as f:\n",
    "    while line := f.readline():\n",
    "        \n",
    "        \n",
    "        if \"@\" in line:\n",
    "            arrx = line.find(\"@\")\n",
    "            initial_position = (arry,arrx)\n",
    "            \n",
    "        line = [c for c in line.strip()]\n",
    "\n",
    "        if \"#\" in line:\n",
    "            arry+=1\n",
    "            board.append(line)\n",
    "        elif line != []:\n",
    "\n",
    "            instructions.append(line)"
   ]
  },
  {
   "cell_type": "code",
   "execution_count": 477,
   "metadata": {},
   "outputs": [],
   "source": [
    "direcctions = {\n",
    "    \"^\" : (-1,0),\n",
    "    \"v\" : (1,0),\n",
    "    \">\" : (0,1),\n",
    "    \"<\" : (0,-1)\n",
    "}"
   ]
  },
  {
   "cell_type": "code",
   "execution_count": 478,
   "metadata": {},
   "outputs": [],
   "source": [
    "def avanzar(board, i, j, direcction):\n",
    "    \n",
    "    next_i = i + direcction[0]\n",
    "    next_j = j + direcction[1]\n",
    "\n",
    "    if board[next_i][next_j] == \"#\":\n",
    "        return i,j\n",
    "    \n",
    "    if board[next_i][next_j] == \"O\":\n",
    "        avanzar(board, next_i,next_j,direcction)\n",
    "    \n",
    "    if board[next_i][next_j] == \".\":\n",
    "        board[next_i][next_j], board[i][j] = board[i][j], board[next_i][next_j]\n",
    "        return next_i,next_j\n",
    "    \n",
    "    return i,j"
   ]
  },
  {
   "cell_type": "code",
   "execution_count": 479,
   "metadata": {},
   "outputs": [],
   "source": [
    "i,j = initial_position\n",
    "instructions = np.array(instructions).flatten()\n",
    "\n",
    "for instruction in instructions:\n",
    "    direcction = direcctions[instruction]\n",
    "    i,j = avanzar(board, i, j, direcction)"
   ]
  },
  {
   "cell_type": "code",
   "execution_count": 480,
   "metadata": {},
   "outputs": [],
   "source": [
    "np.savetxt(\"string_matrix.txt\", board, fmt='%s', delimiter='')"
   ]
  },
  {
   "cell_type": "code",
   "execution_count": 481,
   "metadata": {},
   "outputs": [],
   "source": [
    "result = 0\n",
    "for i in range(len(board)):\n",
    "    for j in range(len(board[0])):\n",
    "        if board[i][j] == \"O\":\n",
    "            result += 100 * i + j"
   ]
  },
  {
   "cell_type": "code",
   "execution_count": 482,
   "metadata": {},
   "outputs": [
    {
     "data": {
      "text/plain": [
       "1505963"
      ]
     },
     "execution_count": 482,
     "metadata": {},
     "output_type": "execute_result"
    }
   ],
   "source": [
    "result"
   ]
  },
  {
   "cell_type": "markdown",
   "metadata": {},
   "source": [
    "## Segunda parte"
   ]
  },
  {
   "cell_type": "code",
   "execution_count": 483,
   "metadata": {},
   "outputs": [],
   "source": [
    "import numpy as np\n",
    "\n",
    "board = []\n",
    "instructions = []\n",
    "\n",
    "arry = 0\n",
    "with open(\"input.txt\") as f:\n",
    "    while line := f.readline():\n",
    "\n",
    "        line = (line.replace(\"#\",\"##\")\n",
    "                    .replace(\"O\",\"[]\")\n",
    "                    .replace(\".\",\"..\")\n",
    "                    .replace(\"@\",\"@.\"))\n",
    "\n",
    "        if \"@\" in line:\n",
    "            arrx = line.find(\"@\")\n",
    "            initial_position = (arry,arrx)\n",
    "\n",
    "        line = [c for c in line.strip()]\n",
    "        \n",
    "        if \"#\" in line:\n",
    "            arry+=1\n",
    "            board.append(line)\n",
    "        elif line != []:\n",
    "            instructions.append(line)\n",
    "\n",
    "instructions = np.array(instructions).flatten()"
   ]
  },
  {
   "cell_type": "code",
   "execution_count": 484,
   "metadata": {},
   "outputs": [],
   "source": [
    "def avanzar_left_right(board, i, j, direcction):\n",
    "    \n",
    "    next_i = i + direcction[0]\n",
    "    next_j = j + direcction[1]\n",
    "    \n",
    "    if board[next_i][next_j] == \"[\" or board[next_i][next_j] == \"]\":\n",
    "        avanzar_left_right(board, next_i,next_j,direcction)\n",
    "    \n",
    "    if board[next_i][next_j] == \".\":\n",
    "        board[next_i][next_j], board[i][j] = board[i][j], board[next_i][next_j]\n",
    "        return next_i,next_j\n",
    "    \n",
    "    return i,j"
   ]
  },
  {
   "cell_type": "code",
   "execution_count": 485,
   "metadata": {},
   "outputs": [],
   "source": [
    "def check_wall(board, i, j, direcction):\n",
    "    next_i = i + direcction[0]\n",
    "    next_j = j + direcction[1]\n",
    "\n",
    "    if board[next_i][next_j] == \"#\":\n",
    "        return False\n",
    "    \n",
    "    if board[next_i][next_j] == \".\":\n",
    "        return True\n",
    "    \n",
    "    if board[next_i][next_j] == \"[\":\n",
    "        return check_wall(board, next_i,next_j,direcction) and check_wall(board,next_i,next_j+1,direcction)\n",
    "\n",
    "    elif board[next_i][next_j] == \"]\":\n",
    "        return check_wall(board, next_i,next_j,direcction) and check_wall(board,next_i,next_j-1,direcction)\n",
    "    \n",
    "    \n",
    "    return False"
   ]
  },
  {
   "cell_type": "code",
   "execution_count": 486,
   "metadata": {},
   "outputs": [],
   "source": [
    "# board = [\n",
    "#     [\"#\", \"#\", \"#\", \"#\", \"#\"],\n",
    "#     [\"#\", \".\", \"@\", \".\", \"#\"],\n",
    "#     [\"#\", \"[\", \"]\", \".\", \"#\"],\n",
    "#     [\"#\", \".\", \"[\", \"]\", \"#\"],\n",
    "#     [\"#\", \".\", \".\", \"#\", \"#\"],\n",
    "#     [\"#\", \".\", \".\", \".\", \"#\"],\n",
    "#     [\"#\", \"#\", \"#\", \"#\", \"#\"],\n",
    "# ]\n",
    "\n",
    "# i, j = 1, 2  # Posición inicial en el tablero\n",
    "# direcction = (1, 0)  \n",
    "\n",
    "# result = check_wall(board, i, j, direcction)\n",
    "\n",
    "# print(f\"Resultado de la función: {result}\")\n"
   ]
  },
  {
   "cell_type": "code",
   "execution_count": 487,
   "metadata": {},
   "outputs": [],
   "source": [
    "def avanzar_up_down(board, i, j, direcction):\n",
    "    \n",
    "    next_i = i + direcction[0]\n",
    "    next_j = j + direcction[1]\n",
    "    \n",
    "    if board[next_i][next_j] == \"[\":\n",
    "        avanzar_up_down(board, next_i, next_j, direcction)\n",
    "        avanzar_up_down(board, next_i, next_j+1, direcction)\n",
    "    \n",
    "    if board[next_i][next_j] == \"]\":\n",
    "        avanzar_up_down(board, next_i, next_j, direcction)\n",
    "        avanzar_up_down(board, next_i, next_j-1, direcction)\n",
    "        \n",
    "    if board[next_i][next_j] == \".\":\n",
    "        board[next_i][next_j], board[i][j] = board[i][j], board[next_i][next_j]\n",
    "        return next_i, next_j\n",
    "    \n",
    "    return i,j"
   ]
  },
  {
   "cell_type": "code",
   "execution_count": 488,
   "metadata": {},
   "outputs": [],
   "source": [
    "i,j = initial_position\n",
    "instructions = np.array(instructions).flatten()\n",
    "\n",
    "for instruction in instructions:\n",
    "    direcction = direcctions[instruction]\n",
    "    # Avanzar de derecha a izq es igual\n",
    "    if instruction == \">\" or instruction == \"<\":\n",
    "        i,j = avanzar_left_right(board, i, j, direcction)\n",
    "    else:\n",
    "        if check_wall(board,i,j,direcction):\n",
    "            i,j = avanzar_up_down(board,i,j,direcction)"
   ]
  },
  {
   "cell_type": "code",
   "execution_count": 489,
   "metadata": {},
   "outputs": [],
   "source": [
    "result = 0\n",
    "for i in range(len(board)):\n",
    "    for j in range(len(board[0])):\n",
    "        if board[i][j] == \"[\":\n",
    "            result += 100 * i + j"
   ]
  },
  {
   "cell_type": "code",
   "execution_count": 490,
   "metadata": {},
   "outputs": [
    {
     "data": {
      "text/plain": [
       "1543141"
      ]
     },
     "execution_count": 490,
     "metadata": {},
     "output_type": "execute_result"
    }
   ],
   "source": [
    "result"
   ]
  }
 ],
 "metadata": {
  "kernelspec": {
   "display_name": "Python 3",
   "language": "python",
   "name": "python3"
  },
  "language_info": {
   "codemirror_mode": {
    "name": "ipython",
    "version": 3
   },
   "file_extension": ".py",
   "mimetype": "text/x-python",
   "name": "python",
   "nbconvert_exporter": "python",
   "pygments_lexer": "ipython3",
   "version": "3.13.0"
  }
 },
 "nbformat": 4,
 "nbformat_minor": 2
}
