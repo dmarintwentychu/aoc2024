{
 "cells": [
  {
   "cell_type": "markdown",
   "metadata": {},
   "source": [
    "## Primera parte"
   ]
  },
  {
   "cell_type": "code",
   "execution_count": 237,
   "metadata": {},
   "outputs": [],
   "source": [
    "from collections import defaultdict\n",
    "import re\n",
    "A_VALUE = 3\n",
    "B_VALUE = 1\n",
    "\n",
    "pattern = r\"\\d+\"\n",
    "regex_pattern = re.compile(pattern)\n",
    "\n",
    "def find_integers(line):\n",
    "    n1, n2 = regex_pattern.findall(line)\n",
    "    n1 = int(n1)\n",
    "    n2 = int(n2)\n",
    "    return n1,n2\n",
    "\n",
    "with open(\"input.txt\") as f:\n",
    "\n",
    "    ecuations = [] # [n1,n3,n2,n4,M,N]\n",
    "    ecuation = []\n",
    "    while line := f.readline():\n",
    "        if line.strip():\n",
    "            na, nb = find_integers(line)\n",
    "            ecuation.append(na)\n",
    "            ecuation.append(nb)\n",
    "        else:\n",
    "            ecuations.append(ecuation)\n",
    "            ecuation = []\n",
    "    ecuations.append(ecuation)"
   ]
  },
  {
   "cell_type": "code",
   "execution_count": 238,
   "metadata": {},
   "outputs": [
    {
     "data": {
      "text/plain": [
       "np.float64(29436.0)"
      ]
     },
     "execution_count": 238,
     "metadata": {},
     "output_type": "execute_result"
    }
   ],
   "source": [
    "import numpy as np\n",
    "# M = n1*X + n2*Y\n",
    "# N = n3*X + n4*Y\n",
    "\n",
    "# [[n1, n2], *  [X,Y] = [[M,N]]\n",
    "#  [n3, n4]] \n",
    "\n",
    "\n",
    "def solve_problem(n1,n3,n2,n4,M,N):\n",
    "    coeficients = np.array([[n1,n2],[n3,n4]])\n",
    "    constants = np.array([M,N])\n",
    "\n",
    "    return np.linalg.solve(coeficients,constants)\n",
    "\n",
    "\n",
    "result = 0\n",
    "for ecuation in ecuations:\n",
    "    x, y = solve_problem(*ecuation)\n",
    "    if abs(x - round(x)) < 1e-4 and abs(y - round(y)) < 1e-4:\n",
    "        result += x*A_VALUE+ y*B_VALUE\n",
    "\n",
    "\n",
    "result"
   ]
  },
  {
   "cell_type": "markdown",
   "metadata": {},
   "source": [
    "## Segunda parte"
   ]
  },
  {
   "cell_type": "code",
   "execution_count": 239,
   "metadata": {},
   "outputs": [
    {
     "data": {
      "text/plain": [
       "np.float64(103729094227877.0)"
      ]
     },
     "execution_count": 239,
     "metadata": {},
     "output_type": "execute_result"
    }
   ],
   "source": [
    "import numpy as np\n",
    "# M = n1*X + n2*Y\n",
    "# N = n3*X + n4*Y\n",
    "\n",
    "# [[n1, n2], *  [X,Y] = [[M,N]]\n",
    "#  [n3, n4]] \n",
    "\n",
    "PRIZE_OFFSET = 1e13\n",
    "def solve_problem(n1,n3,n2,n4,M,N):\n",
    "    coeficients = np.array([[n1,n2],[n3,n4]])\n",
    "    constants = np.array([M + PRIZE_OFFSET,N + PRIZE_OFFSET])\n",
    "\n",
    "    return np.linalg.solve(coeficients,constants)\n",
    "\n",
    "\n",
    "result = 0\n",
    "for ecuation in ecuations:\n",
    "    x, y = solve_problem(*ecuation)\n",
    "    if abs(x - round(x)) < 1e-4 and abs(y - round(y)) < 1e-4:\n",
    "        result += x*A_VALUE+ y*B_VALUE\n",
    "\n",
    "\n",
    "result"
   ]
  }
 ],
 "metadata": {
  "kernelspec": {
   "display_name": "Python 3",
   "language": "python",
   "name": "python3"
  },
  "language_info": {
   "codemirror_mode": {
    "name": "ipython",
    "version": 3
   },
   "file_extension": ".py",
   "mimetype": "text/x-python",
   "name": "python",
   "nbconvert_exporter": "python",
   "pygments_lexer": "ipython3",
   "version": "3.13.0"
  }
 },
 "nbformat": 4,
 "nbformat_minor": 2
}
