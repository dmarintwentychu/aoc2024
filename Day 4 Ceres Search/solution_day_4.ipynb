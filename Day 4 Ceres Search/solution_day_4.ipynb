{
 "cells": [
  {
   "cell_type": "markdown",
   "metadata": {},
   "source": [
    "## Primera parte"
   ]
  },
  {
   "cell_type": "code",
   "execution_count": 1,
   "metadata": {},
   "outputs": [],
   "source": [
    "with open(\"input.txt\") as f:\n",
    "    mat = []\n",
    "    while line := f.readline():\n",
    "        v = []\n",
    "        [v.append(x) for x in line.strip()]\n",
    "        mat.append(v)"
   ]
  },
  {
   "cell_type": "code",
   "execution_count": 2,
   "metadata": {},
   "outputs": [],
   "source": [
    "def check_word(mat,i,j,direccion,w = \"XMAS\"):\n",
    "    x, y = direccion\n",
    "    for c in range(len(w)):\n",
    "        if i < 0 or i > (len(mat)) - 1 or j < 0 or j > len(mat[0]) - 1:\n",
    "            return 0\n",
    "        if w[c] != mat[i][j]:\n",
    "            return 0\n",
    "\n",
    "        i+= x\n",
    "        j+= y\n",
    "    return 1"
   ]
  },
  {
   "cell_type": "code",
   "execution_count": 3,
   "metadata": {},
   "outputs": [
    {
     "name": "stdout",
     "output_type": "stream",
     "text": [
      "Resultado = 2406\n"
     ]
    }
   ],
   "source": [
    "direcciones = [(0,1), (1,0), (1,1), (0,-1), (-1,0), (-1,-1), (-1,1), (1,-1)]\n",
    "count = 0\n",
    "for i in range(len(mat)):\n",
    "    for j in range(len(mat[0])):\n",
    "        if mat[i][j] == \"X\":\n",
    "            for direccion in direcciones:\n",
    "                count += check_word(mat,i,j,direccion)\n",
    "\n",
    "print(\"Resultado = \" + str(count))"
   ]
  },
  {
   "cell_type": "markdown",
   "metadata": {},
   "source": [
    "## Segunda parte"
   ]
  },
  {
   "cell_type": "code",
   "execution_count": 4,
   "metadata": {},
   "outputs": [],
   "source": [
    "def check_wordv2(mat,i,j):\n",
    "    if i == 0 or i == (len(mat)) - 1 or j == 0 or j == len(mat[0]) - 1:\n",
    "            return 0\n",
    "    \n",
    "    diag_asc = (mat[i+1][j+1] == \"S\" and mat[i-1][j-1] == \"M\") or (mat[i+1][j+1] == \"M\" and mat[i-1][j-1] == \"S\")\n",
    "    diag_des = (mat[i+1][j-1] == \"S\" and mat[i-1][j+1] == \"M\") or (mat[i+1][j-1] == \"M\" and mat[i-1][j+1] == \"S\")\n",
    "    if diag_asc and diag_des:\n",
    "        return 1\n",
    "    return 0"
   ]
  },
  {
   "cell_type": "code",
   "execution_count": 5,
   "metadata": {},
   "outputs": [
    {
     "name": "stdout",
     "output_type": "stream",
     "text": [
      "Resultado = 1807\n"
     ]
    }
   ],
   "source": [
    "count = 0\n",
    "for i in range(len(mat)):\n",
    "    for j in range(len(mat[0])):\n",
    "        if mat[i][j] == \"A\":\n",
    "                count += check_wordv2(mat,i,j)\n",
    "\n",
    "\n",
    "\n",
    "print(\"Resultado = \" + str(count))"
   ]
  }
 ],
 "metadata": {
  "kernelspec": {
   "display_name": "Python 3",
   "language": "python",
   "name": "python3"
  },
  "language_info": {
   "codemirror_mode": {
    "name": "ipython",
    "version": 3
   },
   "file_extension": ".py",
   "mimetype": "text/x-python",
   "name": "python",
   "nbconvert_exporter": "python",
   "pygments_lexer": "ipython3",
   "version": "3.13.0"
  }
 },
 "nbformat": 4,
 "nbformat_minor": 2
}
